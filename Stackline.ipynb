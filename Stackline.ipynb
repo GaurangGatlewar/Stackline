{
 "cells": [
  {
   "cell_type": "code",
   "execution_count": null,
   "metadata": {},
   "outputs": [],
   "source": [
    "import pandas as pd\n",
    "import matplotlib.pyplot as plt\n",
    "from flask import Flask, request\n",
    "from flask_restful import Resource, Api\n",
    "from sqlalchemy import create_engine\n",
    "from json import dumps\n",
    "from flask_jsonpify import jsonify"
   ]
  },
  {
   "cell_type": "code",
   "execution_count": null,
   "metadata": {},
   "outputs": [],
   "source": [
    "flights = pd.read_csv('flights.csv')\n",
    "#flights1 = flights.iloc[:1000]                    # Tried with a smaller database to get results faster initially\n",
    "airports = pd.read_csv('airports.csv')\n",
    "airlines = pd.read_csv('airlines.csv')"
   ]
  },
  {
   "cell_type": "code",
   "execution_count": null,
   "metadata": {},
   "outputs": [],
   "source": [
    "#Find the correlation between route distance and flight delays\n",
    "\n",
    "class Index(Resource):\n",
    "    def get(self):\n",
    "        answer = \"The endpoints are: \\n\"\n",
    "        answer += \"correlation,origin_delayed_airports,destination_delayed_airports,avoid_airlines,corr_matrix \\n\"\n",
    "        answer += \"1. correlation: Displays the correlation between route distance and flight delays \\n\"\n",
    "        answer += \"2. origin_delayed_airports: Displays the airports that are part of the most delayed flights (source) \\n\"\n",
    "        answer += \"3. destination_delayed_airports: Displays the airports that are part of the most delayed flights (destination) \\n\"\n",
    "        answer += \"4. avoid_airlines: Displays the airlines you should fly on to avoid significant delays \\n\"\n",
    "        answer += \"5. corr_matrix: Are there any interesting observations you can make from the dataset? \\n\"\n",
    "        return (answer)"
   ]
  },
  {
   "cell_type": "code",
   "execution_count": null,
   "metadata": {
    "collapsed": true
   },
   "outputs": [],
   "source": [
    "#Find the correlation between route distance and flight delays\n",
    "\n",
    "class Corr(Resource):\n",
    "    def get(self):\n",
    "        X = flights['ARRIVAL_DELAY']\n",
    "        Y = flights['DISTANCE']\n",
    "        corr = X.corr(Y)\n",
    "        return (\"The value of the correlation between route distance and flight delays is \" + str(corr))"
   ]
  },
  {
   "cell_type": "code",
   "execution_count": null,
   "metadata": {
    "collapsed": true
   },
   "outputs": [],
   "source": [
    "#Which airports are part of the most delayed flights (either source or destination)?\n",
    "\n",
    "class Origin_delayed_airports(Resource):\n",
    "    def get(self):\n",
    "        conn = db_connect.connect() # connect to database\n",
    "        query = conn.execute(\"select Origin_Airport, departure_delays from (select a.airport as Origin_Airport, count(f.origin_airport) as departure_delays from flights f inner join airports a on f.origin_airport=a.iata_code where f.departure_delay > 0 group by f.origin_airport order by departure_delays desc)t1 limit 10\") # This line performs query and returns json result\n",
    "        return {'Delayed airports': [i[0] for i in query.cursor.fetchall()]} # Fetches first column that is Employee ID"
   ]
  },
  {
   "cell_type": "code",
   "execution_count": null,
   "metadata": {
    "collapsed": true
   },
   "outputs": [],
   "source": [
    "#Which airports are part of the most delayed flights (either source or destination)?\n",
    "\n",
    "class Destination_delayed_airports(Resource):\n",
    "    def get(self):\n",
    "        conn = db_connect.connect() # connect to database\n",
    "        query = conn.execute(\"select Destination_Airport, arrival_delays from (select a.airport as Destination_Airport, count(f.destination_airport) as arrival_delays from flights f inner join airports a on f.destination_airport=a.iata_code where f.arrival_delay > 0 group by f.destination_airport order by arrival_delays desc)t2 limit 10\") # This line performs query and returns json result\n",
    "        return {'Delayed airports': [i[0] for i in query.cursor.fetchall()]} # Fetches first column that is Employee ID"
   ]
  },
  {
   "cell_type": "code",
   "execution_count": null,
   "metadata": {
    "collapsed": true
   },
   "outputs": [],
   "source": [
    "#Which airline should you fly on to avoid significant delays?\n",
    "\n",
    "class Avoid_airlines(Resource):\n",
    "    def get(self):\n",
    "        conn = db_connect.connect() # connect to database\n",
    "        query = conn.execute(\"select airline, count(airline) from flights where departure_delay > 0 or arrival_delay > 0 group by airline order by count(airline)\") # This line performs query and returns json result\n",
    "        return {'The airlines to fly on to avoid significant delays are': [i[0] for i in query.cursor.fetchall()]} # Fetches first column that is Employee ID"
   ]
  },
  {
   "cell_type": "code",
   "execution_count": null,
   "metadata": {},
   "outputs": [],
   "source": [
    "#Are there any interesting observations you can make from the dataset?\n",
    "\n",
    "class Interesting(Resource):\n",
    "    def get(self):\n",
    "        return ([(airline + \" \" + str((flights1[flights1['AIRLINE'] == airline])['ARRIVAL_DELAY'].mean())) for airline in flights1['AIRLINE'].unique()])\n",
    "    "
   ]
  },
  {
   "cell_type": "code",
   "execution_count": null,
   "metadata": {},
   "outputs": [],
   "source": [
    "engine = create_engine('sqlite:///Stackline.db', echo=False)\n",
    "airlines.to_sql('airlines', con=engine)\n",
    "airports.to_sql('airports', con=engine)\n",
    "flights.to_sql('flights', con=engine)\n",
    "#flights1.to_sql('flights', con=engine)\n",
    "\n",
    "db_connect = create_engine('sqlite:///Stackline.db')\n",
    "app = Flask(__name__)\n",
    "api = Api(app)\n",
    "\n",
    "api.add_resource(Index, '/') \n",
    "api.add_resource(Corr, '/correlation')\n",
    "api.add_resource(Origin_delayed_airports, '/origin_delayed_airports')\n",
    "api.add_resource(Destination_delayed_airports, '/destination_delayed_airports')\n",
    "api.add_resource(Avoid_airlines, '/avoid_airlines')\n",
    "api.add_resource(Interesting,'/interesting')\n",
    "\n",
    "if __name__ == '__main__':\n",
    "     app.run(port=5002)"
   ]
  },
  {
   "cell_type": "code",
   "execution_count": null,
   "metadata": {
    "collapsed": true
   },
   "outputs": [],
   "source": []
  }
 ],
 "metadata": {
  "kernelspec": {
   "display_name": "Python 3",
   "language": "python",
   "name": "python3"
  },
  "language_info": {
   "codemirror_mode": {
    "name": "ipython",
    "version": 3
   },
   "file_extension": ".py",
   "mimetype": "text/x-python",
   "name": "python",
   "nbconvert_exporter": "python",
   "pygments_lexer": "ipython3",
   "version": "3.6.2"
  }
 },
 "nbformat": 4,
 "nbformat_minor": 2
}
